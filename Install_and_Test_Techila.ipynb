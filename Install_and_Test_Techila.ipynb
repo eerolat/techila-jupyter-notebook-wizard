{
 "cells": [
  {
   "cell_type": "code",
   "execution_count": null,
   "metadata": {
    "colab": {},
    "colab_type": "code",
    "id": "EcjV8XdWyzp0"
   },
   "outputs": [],
   "source": [
    "# This Notebook configures your Jupyter Notebook for use with your\n",
    "# Techila Distributed Computing Engine in Google GCP Marketplace.\n",
    "#\n",
    "# This script has been tested on a clean Jupyter Notebook running on\n",
    "# Debian 9 and Ubuntu 18.04 Linux"
   ]
  },
  {
   "cell_type": "code",
   "execution_count": null,
   "metadata": {},
   "outputs": [],
   "source": [
    "# 2. Enter your Techila Server address and password, and your sudo password in Cell #3.\n",
    "# 3. Run Cell #4 to install Techila into your Jupyter Notebook environment.\n",
    "# 4. Run Cell #6 to test your system."
   ]
  },
  {
   "cell_type": "code",
   "execution_count": null,
   "metadata": {},
   "outputs": [],
   "source": [
    "my_server_ip = ''\n",
    "my_server_password = ''\n",
    "\n",
    "my_sudo_password = ''"
   ]
  },
  {
   "cell_type": "code",
   "execution_count": null,
   "metadata": {
    "colab": {},
    "colab_type": "code",
    "id": "tKRufDtI4ZV5",
    "scrolled": true
   },
   "outputs": [],
   "source": [
    "!wget --post-data=\"login=admin&password={my_server_password}\" --no-check-certificate https://{my_server_ip}/gce_downloadsdk.php -O techilasdk.zip\n",
    "\n",
    "!echo $my_sudo_password | sudo -S apt-get update\n",
    "!echo $my_sudo_password | sudo -S apt-get -y install unzip\n",
    "!unzip techilasdk.zip\n",
    "\n",
    "!echo $my_sudo_password | sudo -S apt-get -y install openjdk-8-jdk\n",
    "!echo $my_sudo_password | sudo -S ln -s /usr/lib/jvm/java-8-openjdk-amd64 /usr/lib/jvm/default-java\n",
    "\n",
    "%cd techila/lib/python3\n",
    "!python3 setup.py install --user\n",
    "!echo \"JVMPATH=/usr/lib/jvm/default-java/jre/lib/amd64/server/libjvm.so\" > ../TechilaDLL.conf\n",
    "%cd ../../.."
   ]
  },
  {
   "cell_type": "code",
   "execution_count": null,
   "metadata": {},
   "outputs": [],
   "source": [
    "# 1. Start at least one (1) Techila Worker.\n",
    "# 2. Run the Cell to test the connection between your Jupyter Notebook\n",
    "#    and your Techila Distributed Computing Engine system.\n",
    "#    the test runs a simple example code that is included in the Techila SDK.\n",
    "#    The expected output is [2, 2, 2, 2, 2]"
   ]
  },
  {
   "cell_type": "code",
   "execution_count": null,
   "metadata": {},
   "outputs": [],
   "source": [
    "%cd techila/examples/python/Tutorial/1_distribution\n",
    "\n",
    "import run_distribution\n",
    "run_distribution.run_distribution(5)"
   ]
  }
 ],
 "metadata": {
  "colab": {
   "collapsed_sections": [],
   "name": "Install_and_Test_Techila.ipynb",
   "provenance": [],
   "version": "0.3.2"
  },
  "kernelspec": {
   "display_name": "Python 3",
   "language": "python",
   "name": "python3"
  },
  "language_info": {
   "codemirror_mode": {
    "name": "ipython",
    "version": 3
   },
   "file_extension": ".py",
   "mimetype": "text/x-python",
   "name": "python",
   "nbconvert_exporter": "python",
   "pygments_lexer": "ipython3",
   "version": "3.6.8"
  }
 },
 "nbformat": 4,
 "nbformat_minor": 1
}
